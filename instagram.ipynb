{
 "cells": [
  {
   "cell_type": "markdown",
   "id": "9bc6e55c",
   "metadata": {},
   "source": [
    "# Descargar posts y comentarios de Instagram"
   ]
  },
  {
   "cell_type": "code",
   "execution_count": null,
   "id": "4128da73",
   "metadata": {},
   "outputs": [],
   "source": [
    "from instaloader import Instaloader, Profile, Post\n",
    "import pandas as pd\n",
    "from time import sleep"
   ]
  },
  {
   "cell_type": "code",
   "execution_count": null,
   "id": "ae17c179",
   "metadata": {},
   "outputs": [],
   "source": [
    "ig = Instaloader(download_videos=False, download_video_thumbnails=False)\n",
    "try:\n",
    "    from cfg import user, pswd\n",
    "    ig.login(user, pswd) \n",
    "except:\n",
    "    print(\"Para iniciar sesión se debe definir 'user' y 'pswd' en un archivo cfg.py\")"
   ]
  },
  {
   "cell_type": "code",
   "execution_count": null,
   "id": "5cb4c013",
   "metadata": {},
   "outputs": [],
   "source": [
    "PROFILE = \"heybanco\" # perfil a inspeccionar"
   ]
  },
  {
   "cell_type": "code",
   "execution_count": null,
   "id": "141823cb",
   "metadata": {},
   "outputs": [],
   "source": [
    "profile = Profile.from_username(ig.context, PROFILE)"
   ]
  },
  {
   "cell_type": "code",
   "execution_count": null,
   "id": "7ac3b668",
   "metadata": {},
   "outputs": [],
   "source": [
    "post_dicts = list() # recolección de posts y sus datos\n",
    "\n",
    "for post in profile.get_posts():\n",
    "    post_dicts.append(\n",
    "        {\n",
    "            \"caption\": post.caption,\n",
    "            \"date\": post.date,\n",
    "            \"likes\": post.likes,\n",
    "            \"comments\": post.comments,\n",
    "            \"shortcode\": post.shortcode\n",
    "        }\n",
    "    )"
   ]
  },
  {
   "cell_type": "code",
   "execution_count": null,
   "id": "16438d50",
   "metadata": {},
   "outputs": [],
   "source": [
    "df_hey_posts = pd.DataFrame.from_records(post_dicts) \n",
    "df_hey_posts.head()"
   ]
  },
  {
   "cell_type": "code",
   "execution_count": null,
   "id": "93c5e11e",
   "metadata": {},
   "outputs": [],
   "source": [
    "df_hey_posts.to_csv(\"heybanco_posts.csv\")"
   ]
  },
  {
   "cell_type": "code",
   "execution_count": null,
   "id": "75f4006a",
   "metadata": {},
   "outputs": [],
   "source": [
    "comment_dicts = list() # recolección de comentarios de los posts, no es posible si no se inicia sesión\n",
    "# instagram bloquea las solicitudes\n",
    "for post in profile.get_posts():\n",
    "    comments = post.get_comments()\n",
    "    \n",
    "    for comment in comments:\n",
    "        comment_dicts.append(\n",
    "            {\n",
    "                \"text\": comment.text,\n",
    "                \"date\": comment.created_at_utc,\n",
    "                \"likes\": comment.likes_count,\n",
    "                \"post_shortcode\": post.shortcode\n",
    "            }\n",
    "        )\n",
    "    sleep(0.1)"
   ]
  },
  {
   "cell_type": "markdown",
   "id": "486281e9",
   "metadata": {},
   "source": [
    "### NU"
   ]
  },
  {
   "cell_type": "code",
   "execution_count": null,
   "id": "32d42eb3",
   "metadata": {},
   "outputs": [],
   "source": [
    "PROFILE = \"nu.mx\"\n",
    "\n",
    "ig = Instaloader(download_videos=False, download_video_thumbnails=False)\n",
    "\n",
    "profile = Profile.from_username(ig.context, PROFILE)\n",
    "\n",
    "nu_posts = profile.get_posts()\n",
    "nu_post_dicts = list()\n",
    "\n",
    "for post in nu_posts:\n",
    "    nu_post_dicts.append(\n",
    "        {\n",
    "            \"caption\": post.caption,\n",
    "            \"date\": post.date,\n",
    "            \"likes\": post.likes,\n",
    "            \"comments\": post.comments,\n",
    "            \"shortcode\": post.shortcode\n",
    "        }\n",
    "    )\n",
    "    \n",
    "df_nu_posts = pd.DataFrame.from_records(nu_post_dicts) \n",
    "df_nu_posts.to_csv(\"nu_posts.csv\")"
   ]
  },
  {
   "cell_type": "code",
   "execution_count": null,
   "id": "bdb62936",
   "metadata": {},
   "outputs": [],
   "source": []
  }
 ],
 "metadata": {
  "kernelspec": {
   "display_name": "Python 3 (ipykernel)",
   "language": "python",
   "name": "python3"
  },
  "language_info": {
   "codemirror_mode": {
    "name": "ipython",
    "version": 3
   },
   "file_extension": ".py",
   "mimetype": "text/x-python",
   "name": "python",
   "nbconvert_exporter": "python",
   "pygments_lexer": "ipython3",
   "version": "3.8.8"
  }
 },
 "nbformat": 4,
 "nbformat_minor": 5
}
